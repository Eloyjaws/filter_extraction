{
 "cells": [
  {
   "cell_type": "markdown",
   "id": "infinite-vinyl",
   "metadata": {},
   "source": [
    "# Imports"
   ]
  },
  {
   "cell_type": "code",
   "execution_count": 1,
   "id": "healthy-conjunction",
   "metadata": {},
   "outputs": [],
   "source": [
    "import numpy as np\n",
    "import pandas as pd\n",
    "\n",
    "from matplotlib import pyplot as plt\n",
    "import seaborn as sns"
   ]
  },
  {
   "cell_type": "code",
   "execution_count": 2,
   "id": "younger-spirituality",
   "metadata": {},
   "outputs": [
    {
     "name": "stdout",
     "output_type": "stream",
     "text": [
      "ML.ipynb        bc_analysis.pdf metadata.csv    results.csv     test_data.csv\r\n"
     ]
    }
   ],
   "source": [
    "!ls"
   ]
  },
  {
   "cell_type": "markdown",
   "id": "retired-programming",
   "metadata": {},
   "source": [
    "## Load datasets"
   ]
  },
  {
   "cell_type": "code",
   "execution_count": 3,
   "id": "sonic-translator",
   "metadata": {},
   "outputs": [
    {
     "data": {
      "text/html": [
       "<div>\n",
       "<style scoped>\n",
       "    .dataframe tbody tr th:only-of-type {\n",
       "        vertical-align: middle;\n",
       "    }\n",
       "\n",
       "    .dataframe tbody tr th {\n",
       "        vertical-align: top;\n",
       "    }\n",
       "\n",
       "    .dataframe thead th {\n",
       "        text-align: right;\n",
       "    }\n",
       "</style>\n",
       "<table border=\"1\" class=\"dataframe\">\n",
       "  <thead>\n",
       "    <tr style=\"text-align: right;\">\n",
       "      <th></th>\n",
       "      <th>filename</th>\n",
       "      <th>R</th>\n",
       "      <th>G</th>\n",
       "      <th>B</th>\n",
       "      <th>BC_TOT</th>\n",
       "    </tr>\n",
       "  </thead>\n",
       "  <tbody>\n",
       "    <tr>\n",
       "      <th>0</th>\n",
       "      <td>RCV1.2.4_P1_12h_d.jpg</td>\n",
       "      <td>219.772414</td>\n",
       "      <td>215.270069</td>\n",
       "      <td>209.003862</td>\n",
       "      <td>to_be_calculated</td>\n",
       "    </tr>\n",
       "    <tr>\n",
       "      <th>1</th>\n",
       "      <td>RCV1.2.4_P1_24h_d.jpg</td>\n",
       "      <td>189.561748</td>\n",
       "      <td>180.045175</td>\n",
       "      <td>167.519507</td>\n",
       "      <td>to_be_calculated</td>\n",
       "    </tr>\n",
       "    <tr>\n",
       "      <th>2</th>\n",
       "      <td>RCV1.2.4_P1_36h_d.jpg</td>\n",
       "      <td>201.165241</td>\n",
       "      <td>193.114483</td>\n",
       "      <td>180.889103</td>\n",
       "      <td>to_be_calculated</td>\n",
       "    </tr>\n",
       "    <tr>\n",
       "      <th>3</th>\n",
       "      <td>RCV1.2.4_P1_6h_L.jpg</td>\n",
       "      <td>194.706072</td>\n",
       "      <td>191.158404</td>\n",
       "      <td>181.623057</td>\n",
       "      <td>to_be_calculated</td>\n",
       "    </tr>\n",
       "    <tr>\n",
       "      <th>4</th>\n",
       "      <td>RCV1.2.4_P1_36h_C.jpg</td>\n",
       "      <td>181.702069</td>\n",
       "      <td>172.303724</td>\n",
       "      <td>152.748966</td>\n",
       "      <td>to_be_calculated</td>\n",
       "    </tr>\n",
       "  </tbody>\n",
       "</table>\n",
       "</div>"
      ],
      "text/plain": [
       "                filename           R           G           B            BC_TOT\n",
       "0  RCV1.2.4_P1_12h_d.jpg  219.772414  215.270069  209.003862  to_be_calculated\n",
       "1  RCV1.2.4_P1_24h_d.jpg  189.561748  180.045175  167.519507  to_be_calculated\n",
       "2  RCV1.2.4_P1_36h_d.jpg  201.165241  193.114483  180.889103  to_be_calculated\n",
       "3   RCV1.2.4_P1_6h_L.jpg  194.706072  191.158404  181.623057  to_be_calculated\n",
       "4  RCV1.2.4_P1_36h_C.jpg  181.702069  172.303724  152.748966  to_be_calculated"
      ]
     },
     "execution_count": 3,
     "metadata": {},
     "output_type": "execute_result"
    }
   ],
   "source": [
    "df_extracted = pd.read_csv(\"results.csv\")\n",
    "df_extracted.head()"
   ]
  },
  {
   "cell_type": "code",
   "execution_count": 4,
   "id": "opposite-development",
   "metadata": {},
   "outputs": [
    {
     "data": {
      "text/html": [
       "<div>\n",
       "<style scoped>\n",
       "    .dataframe tbody tr th:only-of-type {\n",
       "        vertical-align: middle;\n",
       "    }\n",
       "\n",
       "    .dataframe tbody tr th {\n",
       "        vertical-align: top;\n",
       "    }\n",
       "\n",
       "    .dataframe thead th {\n",
       "        text-align: right;\n",
       "    }\n",
       "</style>\n",
       "<table border=\"1\" class=\"dataframe\">\n",
       "  <thead>\n",
       "    <tr style=\"text-align: right;\">\n",
       "      <th></th>\n",
       "      <th>filename</th>\n",
       "      <th>BC</th>\n",
       "      <th>ring_light</th>\n",
       "    </tr>\n",
       "  </thead>\n",
       "  <tbody>\n",
       "    <tr>\n",
       "      <th>9</th>\n",
       "      <td>RCV1.2.4_P1_60h_B.jpg</td>\n",
       "      <td>5.68</td>\n",
       "      <td>False</td>\n",
       "    </tr>\n",
       "    <tr>\n",
       "      <th>23</th>\n",
       "      <td>RCV1.2.4_P1_12h_L.jpg</td>\n",
       "      <td>0.50</td>\n",
       "      <td>False</td>\n",
       "    </tr>\n",
       "    <tr>\n",
       "      <th>12</th>\n",
       "      <td>RCV1.2.4_P1_48h_B.jpg</td>\n",
       "      <td>2.35</td>\n",
       "      <td>False</td>\n",
       "    </tr>\n",
       "    <tr>\n",
       "      <th>20</th>\n",
       "      <td>RCV1.2.4_P1_36h_L.jpg</td>\n",
       "      <td>1.50</td>\n",
       "      <td>False</td>\n",
       "    </tr>\n",
       "    <tr>\n",
       "      <th>11</th>\n",
       "      <td>RCV1.2.4_P1_48h_L.jpg</td>\n",
       "      <td>2.35</td>\n",
       "      <td>False</td>\n",
       "    </tr>\n",
       "  </tbody>\n",
       "</table>\n",
       "</div>"
      ],
      "text/plain": [
       "                 filename    BC  ring_light\n",
       "9   RCV1.2.4_P1_60h_B.jpg  5.68       False\n",
       "23  RCV1.2.4_P1_12h_L.jpg  0.50       False\n",
       "12  RCV1.2.4_P1_48h_B.jpg  2.35       False\n",
       "20  RCV1.2.4_P1_36h_L.jpg  1.50       False\n",
       "11  RCV1.2.4_P1_48h_L.jpg  2.35       False"
      ]
     },
     "execution_count": 4,
     "metadata": {},
     "output_type": "execute_result"
    }
   ],
   "source": [
    "df_metadata = pd.read_csv(\"metadata.csv\")\n",
    "df_metadata.sample(5)"
   ]
  },
  {
   "cell_type": "code",
   "execution_count": 5,
   "id": "breathing-cinema",
   "metadata": {},
   "outputs": [
    {
     "data": {
      "text/html": [
       "<div>\n",
       "<style scoped>\n",
       "    .dataframe tbody tr th:only-of-type {\n",
       "        vertical-align: middle;\n",
       "    }\n",
       "\n",
       "    .dataframe tbody tr th {\n",
       "        vertical-align: top;\n",
       "    }\n",
       "\n",
       "    .dataframe thead th {\n",
       "        text-align: right;\n",
       "    }\n",
       "</style>\n",
       "<table border=\"1\" class=\"dataframe\">\n",
       "  <thead>\n",
       "    <tr style=\"text-align: right;\">\n",
       "      <th></th>\n",
       "      <th>filename</th>\n",
       "      <th>R</th>\n",
       "      <th>G</th>\n",
       "      <th>B</th>\n",
       "      <th>BC_TOT</th>\n",
       "      <th>BC</th>\n",
       "      <th>ring_light</th>\n",
       "    </tr>\n",
       "  </thead>\n",
       "  <tbody>\n",
       "    <tr>\n",
       "      <th>0</th>\n",
       "      <td>RCV1.2.4_P1_12h_d.jpg</td>\n",
       "      <td>219.772414</td>\n",
       "      <td>215.270069</td>\n",
       "      <td>209.003862</td>\n",
       "      <td>to_be_calculated</td>\n",
       "      <td>0.50</td>\n",
       "      <td>True</td>\n",
       "    </tr>\n",
       "    <tr>\n",
       "      <th>1</th>\n",
       "      <td>RCV1.2.4_P1_24h_d.jpg</td>\n",
       "      <td>189.561748</td>\n",
       "      <td>180.045175</td>\n",
       "      <td>167.519507</td>\n",
       "      <td>to_be_calculated</td>\n",
       "      <td>2.09</td>\n",
       "      <td>True</td>\n",
       "    </tr>\n",
       "    <tr>\n",
       "      <th>2</th>\n",
       "      <td>RCV1.2.4_P1_36h_d.jpg</td>\n",
       "      <td>201.165241</td>\n",
       "      <td>193.114483</td>\n",
       "      <td>180.889103</td>\n",
       "      <td>to_be_calculated</td>\n",
       "      <td>1.50</td>\n",
       "      <td>True</td>\n",
       "    </tr>\n",
       "    <tr>\n",
       "      <th>3</th>\n",
       "      <td>RCV1.2.4_P1_6h_L.jpg</td>\n",
       "      <td>194.706072</td>\n",
       "      <td>191.158404</td>\n",
       "      <td>181.623057</td>\n",
       "      <td>to_be_calculated</td>\n",
       "      <td>0.16</td>\n",
       "      <td>False</td>\n",
       "    </tr>\n",
       "    <tr>\n",
       "      <th>4</th>\n",
       "      <td>RCV1.2.4_P1_36h_C.jpg</td>\n",
       "      <td>181.702069</td>\n",
       "      <td>172.303724</td>\n",
       "      <td>152.748966</td>\n",
       "      <td>to_be_calculated</td>\n",
       "      <td>1.50</td>\n",
       "      <td>False</td>\n",
       "    </tr>\n",
       "  </tbody>\n",
       "</table>\n",
       "</div>"
      ],
      "text/plain": [
       "                filename           R           G           B  \\\n",
       "0  RCV1.2.4_P1_12h_d.jpg  219.772414  215.270069  209.003862   \n",
       "1  RCV1.2.4_P1_24h_d.jpg  189.561748  180.045175  167.519507   \n",
       "2  RCV1.2.4_P1_36h_d.jpg  201.165241  193.114483  180.889103   \n",
       "3   RCV1.2.4_P1_6h_L.jpg  194.706072  191.158404  181.623057   \n",
       "4  RCV1.2.4_P1_36h_C.jpg  181.702069  172.303724  152.748966   \n",
       "\n",
       "             BC_TOT    BC  ring_light  \n",
       "0  to_be_calculated  0.50        True  \n",
       "1  to_be_calculated  2.09        True  \n",
       "2  to_be_calculated  1.50        True  \n",
       "3  to_be_calculated  0.16       False  \n",
       "4  to_be_calculated  1.50       False  "
      ]
     },
     "execution_count": 5,
     "metadata": {},
     "output_type": "execute_result"
    }
   ],
   "source": [
    "df_combined = pd.merge(df_extracted, df_metadata, on=[\"filename\"])\n",
    "df_combined.head()"
   ]
  },
  {
   "cell_type": "code",
   "execution_count": 6,
   "id": "white-german",
   "metadata": {},
   "outputs": [
    {
     "data": {
      "text/html": [
       "<div>\n",
       "<style scoped>\n",
       "    .dataframe tbody tr th:only-of-type {\n",
       "        vertical-align: middle;\n",
       "    }\n",
       "\n",
       "    .dataframe tbody tr th {\n",
       "        vertical-align: top;\n",
       "    }\n",
       "\n",
       "    .dataframe thead th {\n",
       "        text-align: right;\n",
       "    }\n",
       "</style>\n",
       "<table border=\"1\" class=\"dataframe\">\n",
       "  <thead>\n",
       "    <tr style=\"text-align: right;\">\n",
       "      <th></th>\n",
       "      <th>filename</th>\n",
       "      <th>R</th>\n",
       "      <th>G</th>\n",
       "      <th>B</th>\n",
       "      <th>BC_TOT</th>\n",
       "      <th>BC</th>\n",
       "      <th>ring_light</th>\n",
       "    </tr>\n",
       "  </thead>\n",
       "  <tbody>\n",
       "    <tr>\n",
       "      <th>0</th>\n",
       "      <td>RCV1.2.4_P1_12h_d.jpg</td>\n",
       "      <td>219.772414</td>\n",
       "      <td>215.270069</td>\n",
       "      <td>209.003862</td>\n",
       "      <td>to_be_calculated</td>\n",
       "      <td>0.50</td>\n",
       "      <td>True</td>\n",
       "    </tr>\n",
       "    <tr>\n",
       "      <th>1</th>\n",
       "      <td>RCV1.2.4_P1_24h_d.jpg</td>\n",
       "      <td>189.561748</td>\n",
       "      <td>180.045175</td>\n",
       "      <td>167.519507</td>\n",
       "      <td>to_be_calculated</td>\n",
       "      <td>2.09</td>\n",
       "      <td>True</td>\n",
       "    </tr>\n",
       "    <tr>\n",
       "      <th>2</th>\n",
       "      <td>RCV1.2.4_P1_36h_d.jpg</td>\n",
       "      <td>201.165241</td>\n",
       "      <td>193.114483</td>\n",
       "      <td>180.889103</td>\n",
       "      <td>to_be_calculated</td>\n",
       "      <td>1.50</td>\n",
       "      <td>True</td>\n",
       "    </tr>\n",
       "    <tr>\n",
       "      <th>19</th>\n",
       "      <td>RCV1.2.4_P1_48h_d.jpg</td>\n",
       "      <td>175.695172</td>\n",
       "      <td>164.277793</td>\n",
       "      <td>149.140966</td>\n",
       "      <td>to_be_calculated</td>\n",
       "      <td>2.35</td>\n",
       "      <td>True</td>\n",
       "    </tr>\n",
       "    <tr>\n",
       "      <th>20</th>\n",
       "      <td>RCV1.2.4_P1_72h_d.jpg</td>\n",
       "      <td>197.425678</td>\n",
       "      <td>188.686507</td>\n",
       "      <td>176.555313</td>\n",
       "      <td>to_be_calculated</td>\n",
       "      <td>1.73</td>\n",
       "      <td>True</td>\n",
       "    </tr>\n",
       "    <tr>\n",
       "      <th>21</th>\n",
       "      <td>RCV1.2.4_P1_60h_d.jpg</td>\n",
       "      <td>145.976533</td>\n",
       "      <td>131.761220</td>\n",
       "      <td>114.446465</td>\n",
       "      <td>to_be_calculated</td>\n",
       "      <td>5.68</td>\n",
       "      <td>True</td>\n",
       "    </tr>\n",
       "    <tr>\n",
       "      <th>25</th>\n",
       "      <td>RCV1.2.4_P1_6h_d.jpg</td>\n",
       "      <td>226.354004</td>\n",
       "      <td>223.266127</td>\n",
       "      <td>216.743222</td>\n",
       "      <td>to_be_calculated</td>\n",
       "      <td>0.16</td>\n",
       "      <td>True</td>\n",
       "    </tr>\n",
       "  </tbody>\n",
       "</table>\n",
       "</div>"
      ],
      "text/plain": [
       "                 filename           R           G           B  \\\n",
       "0   RCV1.2.4_P1_12h_d.jpg  219.772414  215.270069  209.003862   \n",
       "1   RCV1.2.4_P1_24h_d.jpg  189.561748  180.045175  167.519507   \n",
       "2   RCV1.2.4_P1_36h_d.jpg  201.165241  193.114483  180.889103   \n",
       "19  RCV1.2.4_P1_48h_d.jpg  175.695172  164.277793  149.140966   \n",
       "20  RCV1.2.4_P1_72h_d.jpg  197.425678  188.686507  176.555313   \n",
       "21  RCV1.2.4_P1_60h_d.jpg  145.976533  131.761220  114.446465   \n",
       "25   RCV1.2.4_P1_6h_d.jpg  226.354004  223.266127  216.743222   \n",
       "\n",
       "              BC_TOT    BC  ring_light  \n",
       "0   to_be_calculated  0.50        True  \n",
       "1   to_be_calculated  2.09        True  \n",
       "2   to_be_calculated  1.50        True  \n",
       "19  to_be_calculated  2.35        True  \n",
       "20  to_be_calculated  1.73        True  \n",
       "21  to_be_calculated  5.68        True  \n",
       "25  to_be_calculated  0.16        True  "
      ]
     },
     "execution_count": 6,
     "metadata": {},
     "output_type": "execute_result"
    }
   ],
   "source": [
    "df_ring = df_combined.query(\"ring_light == True\")\n",
    "df_ring"
   ]
  },
  {
   "cell_type": "markdown",
   "id": "broke-implementation",
   "metadata": {},
   "source": [
    "## Merge datasets"
   ]
  },
  {
   "cell_type": "code",
   "execution_count": 7,
   "id": "elder-diary",
   "metadata": {},
   "outputs": [
    {
     "data": {
      "text/html": [
       "<div>\n",
       "<style scoped>\n",
       "    .dataframe tbody tr th:only-of-type {\n",
       "        vertical-align: middle;\n",
       "    }\n",
       "\n",
       "    .dataframe tbody tr th {\n",
       "        vertical-align: top;\n",
       "    }\n",
       "\n",
       "    .dataframe thead th {\n",
       "        text-align: right;\n",
       "    }\n",
       "</style>\n",
       "<table border=\"1\" class=\"dataframe\">\n",
       "  <thead>\n",
       "    <tr style=\"text-align: right;\">\n",
       "      <th></th>\n",
       "      <th>filename</th>\n",
       "      <th>R</th>\n",
       "      <th>G</th>\n",
       "      <th>B</th>\n",
       "      <th>BC_TOT</th>\n",
       "      <th>BC</th>\n",
       "      <th>ring_light</th>\n",
       "    </tr>\n",
       "  </thead>\n",
       "  <tbody>\n",
       "    <tr>\n",
       "      <th>3</th>\n",
       "      <td>RCV1.2.4_P1_6h_L.jpg</td>\n",
       "      <td>194.706072</td>\n",
       "      <td>191.158404</td>\n",
       "      <td>181.623057</td>\n",
       "      <td>to_be_calculated</td>\n",
       "      <td>0.16</td>\n",
       "      <td>False</td>\n",
       "    </tr>\n",
       "    <tr>\n",
       "      <th>4</th>\n",
       "      <td>RCV1.2.4_P1_36h_C.jpg</td>\n",
       "      <td>181.702069</td>\n",
       "      <td>172.303724</td>\n",
       "      <td>152.748966</td>\n",
       "      <td>to_be_calculated</td>\n",
       "      <td>1.50</td>\n",
       "      <td>False</td>\n",
       "    </tr>\n",
       "    <tr>\n",
       "      <th>5</th>\n",
       "      <td>RCV1.2.4_P1_24h_C.jpg</td>\n",
       "      <td>165.438345</td>\n",
       "      <td>156.818207</td>\n",
       "      <td>137.574345</td>\n",
       "      <td>to_be_calculated</td>\n",
       "      <td>2.09</td>\n",
       "      <td>False</td>\n",
       "    </tr>\n",
       "    <tr>\n",
       "      <th>6</th>\n",
       "      <td>RCV1.2.4_P1_12h_B.jpg</td>\n",
       "      <td>192.197793</td>\n",
       "      <td>187.399724</td>\n",
       "      <td>174.828414</td>\n",
       "      <td>to_be_calculated</td>\n",
       "      <td>0.50</td>\n",
       "      <td>False</td>\n",
       "    </tr>\n",
       "    <tr>\n",
       "      <th>7</th>\n",
       "      <td>RCV1.2.4_P1_12h_C.jpg</td>\n",
       "      <td>192.154565</td>\n",
       "      <td>187.761296</td>\n",
       "      <td>176.264568</td>\n",
       "      <td>to_be_calculated</td>\n",
       "      <td>0.50</td>\n",
       "      <td>False</td>\n",
       "    </tr>\n",
       "  </tbody>\n",
       "</table>\n",
       "</div>"
      ],
      "text/plain": [
       "                filename           R           G           B  \\\n",
       "3   RCV1.2.4_P1_6h_L.jpg  194.706072  191.158404  181.623057   \n",
       "4  RCV1.2.4_P1_36h_C.jpg  181.702069  172.303724  152.748966   \n",
       "5  RCV1.2.4_P1_24h_C.jpg  165.438345  156.818207  137.574345   \n",
       "6  RCV1.2.4_P1_12h_B.jpg  192.197793  187.399724  174.828414   \n",
       "7  RCV1.2.4_P1_12h_C.jpg  192.154565  187.761296  176.264568   \n",
       "\n",
       "             BC_TOT    BC  ring_light  \n",
       "3  to_be_calculated  0.16       False  \n",
       "4  to_be_calculated  1.50       False  \n",
       "5  to_be_calculated  2.09       False  \n",
       "6  to_be_calculated  0.50       False  \n",
       "7  to_be_calculated  0.50       False  "
      ]
     },
     "execution_count": 7,
     "metadata": {},
     "output_type": "execute_result"
    }
   ],
   "source": [
    "df_no_ring = df_combined.query(\"ring_light == False\")\n",
    "df_no_ring.head()"
   ]
  },
  {
   "cell_type": "code",
   "execution_count": 8,
   "id": "sharing-wealth",
   "metadata": {},
   "outputs": [
    {
     "name": "stdout",
     "output_type": "stream",
     "text": [
      "<class 'pandas.core.frame.DataFrame'>\n",
      "Int64Index: 21 entries, 3 to 27\n",
      "Data columns (total 7 columns):\n",
      " #   Column      Non-Null Count  Dtype  \n",
      "---  ------      --------------  -----  \n",
      " 0   filename    21 non-null     object \n",
      " 1   R           21 non-null     float64\n",
      " 2   G           21 non-null     float64\n",
      " 3   B           21 non-null     float64\n",
      " 4   BC_TOT      21 non-null     object \n",
      " 5   BC          21 non-null     float64\n",
      " 6   ring_light  21 non-null     bool   \n",
      "dtypes: bool(1), float64(4), object(2)\n",
      "memory usage: 1.2+ KB\n"
     ]
    }
   ],
   "source": [
    "df_no_ring.info()"
   ]
  },
  {
   "cell_type": "markdown",
   "id": "nutritional-completion",
   "metadata": {},
   "source": [
    "## Extract R, G, B values as X,  and BC values as y"
   ]
  },
  {
   "cell_type": "code",
   "execution_count": 9,
   "id": "attached-pittsburgh",
   "metadata": {},
   "outputs": [],
   "source": [
    "X, y = df_no_ring[[\"R\", \"G\", \"B\"]], df_no_ring[\"BC\"]\n",
    "\n",
    "X_ring, y_ring = df_ring[[\"R\", \"G\", \"B\"]], df_ring[\"BC\"]"
   ]
  },
  {
   "cell_type": "markdown",
   "id": "unexpected-header",
   "metadata": {},
   "source": [
    "## ML with Scikit-Learn"
   ]
  },
  {
   "cell_type": "code",
   "execution_count": 10,
   "id": "worst-astrology",
   "metadata": {},
   "outputs": [],
   "source": [
    "from sklearn.preprocessing import Normalizer, StandardScaler, MinMaxScaler\n",
    "from sklearn.model_selection import train_test_split, cross_val_score, cross_validate, GridSearchCV\n",
    "from sklearn.pipeline import make_pipeline\n",
    "from sklearn.metrics import mean_absolute_error, mean_squared_error, r2_score # true, pred"
   ]
  },
  {
   "cell_type": "code",
   "execution_count": 11,
   "id": "applied-halloween",
   "metadata": {},
   "outputs": [
    {
     "name": "stdout",
     "output_type": "stream",
     "text": [
      "Dataset - No Ring Light\n",
      "Train size:  15 \n",
      "Test size:  6\n",
      "\n",
      "Dataset - Ring Light\n",
      "Train size:  5 \n",
      "Test size:  2\n"
     ]
    }
   ],
   "source": [
    "X_train, X_test, y_train, y_test = train_test_split(X, y, random_state=33)\n",
    "X_ring_train, X_ring_test, y_ring_train, y_ring_test = train_test_split(X_ring, y_ring, random_state=33)\n",
    "\n",
    "print(\"Dataset - No Ring Light\")\n",
    "print(\"Train size: \", len(X_train), \"\\nTest size: \", len(X_test))\n",
    "\n",
    "print(\"\\nDataset - Ring Light\")\n",
    "print(\"Train size: \", len(X_ring_train), \"\\nTest size: \", len(X_ring_test))"
   ]
  },
  {
   "cell_type": "markdown",
   "id": "commercial-unemployment",
   "metadata": {},
   "source": [
    "## Create Ensemble Model"
   ]
  },
  {
   "cell_type": "code",
   "execution_count": 12,
   "id": "second-proposal",
   "metadata": {},
   "outputs": [
    {
     "data": {
      "text/plain": [
       "{'fit_time': array([0.07168078, 0.07561278, 0.07572818, 0.06943989]),\n",
       " 'score_time': array([0.00378418, 0.00428915, 0.00377297, 0.00380802]),\n",
       " 'test_r2': array([0.97771192, 0.93170525, 0.95794095, 0.95457944]),\n",
       " 'test_neg_mean_absolute_error': array([-0.0960905 , -0.29734085, -0.10989247, -0.35576574]),\n",
       " 'test_neg_mean_squared_error': array([-0.01651032, -0.19346026, -0.01865109, -0.23761714]),\n",
       " 'test_neg_root_mean_squared_error': array([-0.12849248, -0.43984117, -0.13656898, -0.48745989])}"
      ]
     },
     "execution_count": 12,
     "metadata": {},
     "output_type": "execute_result"
    }
   ],
   "source": [
    "from sklearn.linear_model import LinearRegression, RidgeCV, Lasso, ElasticNetCV\n",
    "from sklearn.svm import SVR\n",
    "from sklearn.ensemble import VotingRegressor, RandomForestRegressor, GradientBoostingRegressor\n",
    "\n",
    "\n",
    "gb = GradientBoostingRegressor(random_state=1, n_estimators=100, learning_rate=0.1, max_depth=1)\n",
    "rf = RandomForestRegressor(random_state=1, n_estimators=10, max_features=1, max_leaf_nodes=5)\n",
    "lr = LinearRegression()\n",
    "ridge = RidgeCV()\n",
    "enet = ElasticNetCV()\n",
    "svr = SVR()\n",
    "\n",
    "regressors = VotingRegressor(estimators=[\\\n",
    "    ('gb', gb), \\\n",
    "    ('rf', rf), \\\n",
    "    ('lr', lr), \\\n",
    "    ('ridge', ridge), \\\n",
    "    ('enet', enet), \\\n",
    "    ('svm', svr)\\\n",
    "  ])\n",
    "\n",
    "model = make_pipeline(StandardScaler(), regressors)\n",
    "# model = make_pipeline(MinMaxScaler(), regressors)\n",
    "# model = make_pipeline(Normalizer(), regressors)\n",
    "\n",
    "cross_validate(model, X_train, y_train, cv=4, scoring=(\"r2\", \"neg_mean_absolute_error\", \"neg_mean_squared_error\", \"neg_root_mean_squared_error\"))\n"
   ]
  },
  {
   "cell_type": "markdown",
   "id": "applied-tunnel",
   "metadata": {},
   "source": [
    "## Check R2 score after cross-validation"
   ]
  },
  {
   "cell_type": "code",
   "execution_count": 13,
   "id": "environmental-paper",
   "metadata": {},
   "outputs": [
    {
     "data": {
      "text/plain": [
       "array([0.97771192, 0.93170525, 0.95794095, 0.95457944])"
      ]
     },
     "execution_count": 13,
     "metadata": {},
     "output_type": "execute_result"
    }
   ],
   "source": [
    "cross_val_score(model, X_train, y_train, cv=4)"
   ]
  },
  {
   "cell_type": "markdown",
   "id": "dangerous-ethiopia",
   "metadata": {},
   "source": [
    "## Fit Model"
   ]
  },
  {
   "cell_type": "code",
   "execution_count": 20,
   "id": "infinite-watts",
   "metadata": {},
   "outputs": [
    {
     "name": "stdout",
     "output_type": "stream",
     "text": [
      "MAE:  0.22960625220082967 \n",
      "MSE:  0.0950590247691044 \n",
      " R2:  0.9703814961932026 \n",
      "Predictions:  [2.01506465 1.73142224 5.17189509 0.45928976 1.81818811 0.64065288]\n"
     ]
    }
   ],
   "source": [
    "model = model.fit(X_train, y_train)\n",
    "y_pred = model.predict(X_test)\n",
    "mae, mse, r2 = mean_absolute_error(y_test, y_pred), mean_squared_error(y_test, y_pred), r2_score(y_test, y_pred)\n",
    "\n",
    "print(\"MAE: \", mae, \"\\nMSE: \", mse, \"\\n R2: \", r2, \"\\nPredictions: \", y_pred)"
   ]
  },
  {
   "cell_type": "markdown",
   "id": "seasonal-subsection",
   "metadata": {},
   "source": [
    "## Test Model on ring-light data"
   ]
  },
  {
   "cell_type": "code",
   "execution_count": 15,
   "id": "looking-trail",
   "metadata": {},
   "outputs": [
    {
     "name": "stdout",
     "output_type": "stream",
     "text": [
      "MAE:  1.6285515586080108 \n",
      "MSE:  3.482857358930799 \n",
      " R2:  -0.25634007302105677 \n",
      "Predictions:  [3.14003351 1.63286337]\n"
     ]
    }
   ],
   "source": [
    "y_ring_pred = model.predict(X_ring_test)\n",
    "mae, mse, r2 = mean_absolute_error(y_ring_test, y_ring_pred), mean_squared_error(y_ring_test, y_ring_pred), r2_score(y_ring_test, y_ring_pred)\n",
    "\n",
    "print(\"MAE: \", mae, \"\\nMSE: \", mse, \"\\n R2: \", r2, \"\\nPredictions: \", y_ring_pred)\n",
    "\n"
   ]
  },
  {
   "cell_type": "markdown",
   "id": "sensitive-pocket",
   "metadata": {},
   "source": [
    "### Performance is pretty terrible"
   ]
  },
  {
   "cell_type": "code",
   "execution_count": null,
   "id": "naval-november",
   "metadata": {},
   "outputs": [],
   "source": []
  },
  {
   "cell_type": "markdown",
   "id": "brutal-asbestos",
   "metadata": {},
   "source": [
    "## Dataset is too small for images using ring light\n",
    "\n",
    "But we fit a model anyways"
   ]
  },
  {
   "cell_type": "code",
   "execution_count": 16,
   "id": "intense-header",
   "metadata": {},
   "outputs": [
    {
     "data": {
      "text/plain": [
       "array([0.82446025, 0.98283886])"
      ]
     },
     "execution_count": 16,
     "metadata": {},
     "output_type": "execute_result"
    }
   ],
   "source": [
    "reg1 = GradientBoostingRegressor(random_state=1, n_estimators=100, learning_rate=0.1, max_depth=1)\n",
    "reg2 = RandomForestRegressor(random_state=1, n_estimators=10, max_features=1, max_leaf_nodes=2)\n",
    "reg3 = LinearRegression()\n",
    "reg4 = SVR()\n",
    "\n",
    "regressors = VotingRegressor(estimators=[\\\n",
    "    ('gb', reg1), \\\n",
    "    ('rf', reg2), \\\n",
    "    ('lr', reg3), \\\n",
    "    ('svm', reg4)\\\n",
    "  ])\n",
    "\n",
    "model = make_pipeline(StandardScaler(), regressors)\n",
    "model = model.fit(X_ring_train, y_ring_train)\n",
    "cross_val_score(model, X_ring_train, y_ring_train, cv=2)"
   ]
  },
  {
   "cell_type": "code",
   "execution_count": 17,
   "id": "racial-adult",
   "metadata": {},
   "outputs": [
    {
     "name": "stdout",
     "output_type": "stream",
     "text": [
      "MAE:  1.8657399964733092 \n",
      "MSE:  5.815473008348217 \n",
      " R2:  -1.0977637126669797 \n",
      "Predictions:  [2.2863571 2.0121629]\n"
     ]
    }
   ],
   "source": [
    "model = model.fit(X_ring_train, y_ring_train)\n",
    "\n",
    "y_ring_pred = model.predict(X_ring_test)\n",
    "mae, mse, r2 = mean_absolute_error(y_ring_test, y_ring_pred), mean_squared_error(y_ring_test, y_ring_pred), r2_score(y_ring_test, y_ring_pred)\n",
    "\n",
    "print(\"MAE: \", mae, \"\\nMSE: \", mse, \"\\n R2: \", r2, \"\\nPredictions: \", y_ring_pred)\n",
    "\n"
   ]
  },
  {
   "cell_type": "markdown",
   "id": "bulgarian-title",
   "metadata": {},
   "source": [
    "### Use Model trained on Ring light data to predict BC for older images"
   ]
  },
  {
   "cell_type": "code",
   "execution_count": 18,
   "id": "varied-flooring",
   "metadata": {},
   "outputs": [
    {
     "name": "stdout",
     "output_type": "stream",
     "text": [
      "MAE:  1.0135603620607447 \n",
      "MSE:  2.194693028245988 \n",
      " R2:  0.3161772491381297 \n",
      "Predictions:  [2.03354878 1.99529221 2.56016037 1.60982121 2.01751777 1.61747568]\n"
     ]
    }
   ],
   "source": [
    "y_pred = model.predict(X_test)\n",
    "mae, mse, r2 = mean_absolute_error(y_test, y_pred), mean_squared_error(y_test, y_pred), r2_score(y_test, y_pred)\n",
    "\n",
    "print(\"MAE: \", mae, \"\\nMSE: \", mse, \"\\n R2: \", r2, \"\\nPredictions: \", y_pred)\n",
    "\n"
   ]
  },
  {
   "cell_type": "markdown",
   "id": "fresh-leeds",
   "metadata": {},
   "source": [
    "## Hyperparameter tuning"
   ]
  },
  {
   "cell_type": "code",
   "execution_count": 19,
   "id": "equivalent-naples",
   "metadata": {},
   "outputs": [],
   "source": [
    "# params = {\"param\": np.arange(1,3), \"kernel\": [\"linear\", \"rbf\"]}\n",
    "\n",
    "# grid = GridSearchCV(estimator=model, param_grid=params)\n",
    "# grid.fit(X_train, y_train)\n",
    "\n",
    "# print(grid.best_score_)\n",
    "# print(grid.best_estimator_)"
   ]
  },
  {
   "cell_type": "markdown",
   "id": "aquatic-referral",
   "metadata": {},
   "source": [
    "### Test Model on new images"
   ]
  },
  {
   "cell_type": "code",
   "execution_count": 32,
   "id": "organized-orange",
   "metadata": {},
   "outputs": [
    {
     "data": {
      "text/html": [
       "<div>\n",
       "<style scoped>\n",
       "    .dataframe tbody tr th:only-of-type {\n",
       "        vertical-align: middle;\n",
       "    }\n",
       "\n",
       "    .dataframe tbody tr th {\n",
       "        vertical-align: top;\n",
       "    }\n",
       "\n",
       "    .dataframe thead th {\n",
       "        text-align: right;\n",
       "    }\n",
       "</style>\n",
       "<table border=\"1\" class=\"dataframe\">\n",
       "  <thead>\n",
       "    <tr style=\"text-align: right;\">\n",
       "      <th></th>\n",
       "      <th>filename</th>\n",
       "      <th>R</th>\n",
       "      <th>G</th>\n",
       "      <th>B</th>\n",
       "      <th>BC</th>\n",
       "    </tr>\n",
       "  </thead>\n",
       "  <tbody>\n",
       "    <tr>\n",
       "      <th>0</th>\n",
       "      <td>RCV1.2.4_P1_36h_r.jpg</td>\n",
       "      <td>227.735743</td>\n",
       "      <td>226.151449</td>\n",
       "      <td>214.286382</td>\n",
       "      <td>1.50</td>\n",
       "    </tr>\n",
       "    <tr>\n",
       "      <th>1</th>\n",
       "      <td>RCV1.2.4_P1_24h_r.jpg</td>\n",
       "      <td>215.259034</td>\n",
       "      <td>212.563034</td>\n",
       "      <td>198.467034</td>\n",
       "      <td>2.09</td>\n",
       "    </tr>\n",
       "    <tr>\n",
       "      <th>2</th>\n",
       "      <td>RCV1.2.4_P1_12h_r.jpg</td>\n",
       "      <td>243.208788</td>\n",
       "      <td>245.875039</td>\n",
       "      <td>244.318168</td>\n",
       "      <td>0.50</td>\n",
       "    </tr>\n",
       "    <tr>\n",
       "      <th>3</th>\n",
       "      <td>RCV1.2.4_P1_blank_r.jpg</td>\n",
       "      <td>243.457152</td>\n",
       "      <td>248.335619</td>\n",
       "      <td>246.678716</td>\n",
       "      <td>0.00</td>\n",
       "    </tr>\n",
       "    <tr>\n",
       "      <th>4</th>\n",
       "      <td>RCV1.2.4_P1_60h_r.jpg</td>\n",
       "      <td>166.565793</td>\n",
       "      <td>162.700414</td>\n",
       "      <td>138.765517</td>\n",
       "      <td>5.68</td>\n",
       "    </tr>\n",
       "    <tr>\n",
       "      <th>5</th>\n",
       "      <td>RCV1.2.4_P1_72h_r.jpg</td>\n",
       "      <td>221.807568</td>\n",
       "      <td>219.919918</td>\n",
       "      <td>206.118803</td>\n",
       "      <td>1.73</td>\n",
       "    </tr>\n",
       "    <tr>\n",
       "      <th>6</th>\n",
       "      <td>RCV1.2.4_P1_48h_r.jpg</td>\n",
       "      <td>203.683862</td>\n",
       "      <td>199.410483</td>\n",
       "      <td>179.163310</td>\n",
       "      <td>2.35</td>\n",
       "    </tr>\n",
       "    <tr>\n",
       "      <th>7</th>\n",
       "      <td>RCV1.2.4_P1_6h_r.jpg</td>\n",
       "      <td>248.933241</td>\n",
       "      <td>224.825379</td>\n",
       "      <td>168.017655</td>\n",
       "      <td>0.16</td>\n",
       "    </tr>\n",
       "  </tbody>\n",
       "</table>\n",
       "</div>"
      ],
      "text/plain": [
       "                  filename           R           G           B    BC\n",
       "0    RCV1.2.4_P1_36h_r.jpg  227.735743  226.151449  214.286382  1.50\n",
       "1    RCV1.2.4_P1_24h_r.jpg  215.259034  212.563034  198.467034  2.09\n",
       "2    RCV1.2.4_P1_12h_r.jpg  243.208788  245.875039  244.318168  0.50\n",
       "3  RCV1.2.4_P1_blank_r.jpg  243.457152  248.335619  246.678716  0.00\n",
       "4    RCV1.2.4_P1_60h_r.jpg  166.565793  162.700414  138.765517  5.68\n",
       "5    RCV1.2.4_P1_72h_r.jpg  221.807568  219.919918  206.118803  1.73\n",
       "6    RCV1.2.4_P1_48h_r.jpg  203.683862  199.410483  179.163310  2.35\n",
       "7     RCV1.2.4_P1_6h_r.jpg  248.933241  224.825379  168.017655  0.16"
      ]
     },
     "execution_count": 32,
     "metadata": {},
     "output_type": "execute_result"
    }
   ],
   "source": [
    "df_test = pd.read_csv(\"test_data.csv\")\n",
    "df_test"
   ]
  },
  {
   "cell_type": "code",
   "execution_count": 33,
   "id": "retained-configuration",
   "metadata": {},
   "outputs": [
    {
     "data": {
      "text/html": [
       "<div>\n",
       "<style scoped>\n",
       "    .dataframe tbody tr th:only-of-type {\n",
       "        vertical-align: middle;\n",
       "    }\n",
       "\n",
       "    .dataframe tbody tr th {\n",
       "        vertical-align: top;\n",
       "    }\n",
       "\n",
       "    .dataframe thead th {\n",
       "        text-align: right;\n",
       "    }\n",
       "</style>\n",
       "<table border=\"1\" class=\"dataframe\">\n",
       "  <thead>\n",
       "    <tr style=\"text-align: right;\">\n",
       "      <th></th>\n",
       "      <th>R</th>\n",
       "      <th>G</th>\n",
       "      <th>B</th>\n",
       "    </tr>\n",
       "  </thead>\n",
       "  <tbody>\n",
       "    <tr>\n",
       "      <th>0</th>\n",
       "      <td>227.735743</td>\n",
       "      <td>226.151449</td>\n",
       "      <td>214.286382</td>\n",
       "    </tr>\n",
       "    <tr>\n",
       "      <th>1</th>\n",
       "      <td>215.259034</td>\n",
       "      <td>212.563034</td>\n",
       "      <td>198.467034</td>\n",
       "    </tr>\n",
       "    <tr>\n",
       "      <th>2</th>\n",
       "      <td>243.208788</td>\n",
       "      <td>245.875039</td>\n",
       "      <td>244.318168</td>\n",
       "    </tr>\n",
       "    <tr>\n",
       "      <th>3</th>\n",
       "      <td>243.457152</td>\n",
       "      <td>248.335619</td>\n",
       "      <td>246.678716</td>\n",
       "    </tr>\n",
       "    <tr>\n",
       "      <th>4</th>\n",
       "      <td>166.565793</td>\n",
       "      <td>162.700414</td>\n",
       "      <td>138.765517</td>\n",
       "    </tr>\n",
       "    <tr>\n",
       "      <th>5</th>\n",
       "      <td>221.807568</td>\n",
       "      <td>219.919918</td>\n",
       "      <td>206.118803</td>\n",
       "    </tr>\n",
       "    <tr>\n",
       "      <th>6</th>\n",
       "      <td>203.683862</td>\n",
       "      <td>199.410483</td>\n",
       "      <td>179.163310</td>\n",
       "    </tr>\n",
       "    <tr>\n",
       "      <th>7</th>\n",
       "      <td>248.933241</td>\n",
       "      <td>224.825379</td>\n",
       "      <td>168.017655</td>\n",
       "    </tr>\n",
       "  </tbody>\n",
       "</table>\n",
       "</div>"
      ],
      "text/plain": [
       "            R           G           B\n",
       "0  227.735743  226.151449  214.286382\n",
       "1  215.259034  212.563034  198.467034\n",
       "2  243.208788  245.875039  244.318168\n",
       "3  243.457152  248.335619  246.678716\n",
       "4  166.565793  162.700414  138.765517\n",
       "5  221.807568  219.919918  206.118803\n",
       "6  203.683862  199.410483  179.163310\n",
       "7  248.933241  224.825379  168.017655"
      ]
     },
     "execution_count": 33,
     "metadata": {},
     "output_type": "execute_result"
    }
   ],
   "source": [
    "X_test_new = df_test[[\"R\", \"G\", \"B\"]]\n",
    "X_test_new"
   ]
  },
  {
   "cell_type": "code",
   "execution_count": 35,
   "id": "jewish-account",
   "metadata": {},
   "outputs": [
    {
     "data": {
      "text/html": [
       "<div>\n",
       "<style scoped>\n",
       "    .dataframe tbody tr th:only-of-type {\n",
       "        vertical-align: middle;\n",
       "    }\n",
       "\n",
       "    .dataframe tbody tr th {\n",
       "        vertical-align: top;\n",
       "    }\n",
       "\n",
       "    .dataframe thead th {\n",
       "        text-align: right;\n",
       "    }\n",
       "</style>\n",
       "<table border=\"1\" class=\"dataframe\">\n",
       "  <thead>\n",
       "    <tr style=\"text-align: right;\">\n",
       "      <th></th>\n",
       "      <th>filename</th>\n",
       "      <th>R</th>\n",
       "      <th>G</th>\n",
       "      <th>B</th>\n",
       "      <th>BC</th>\n",
       "      <th>BC_pred</th>\n",
       "    </tr>\n",
       "  </thead>\n",
       "  <tbody>\n",
       "    <tr>\n",
       "      <th>0</th>\n",
       "      <td>RCV1.2.4_P1_36h_r.jpg</td>\n",
       "      <td>227.735743</td>\n",
       "      <td>226.151449</td>\n",
       "      <td>214.286382</td>\n",
       "      <td>1.50</td>\n",
       "      <td>0.271363</td>\n",
       "    </tr>\n",
       "    <tr>\n",
       "      <th>1</th>\n",
       "      <td>RCV1.2.4_P1_24h_r.jpg</td>\n",
       "      <td>215.259034</td>\n",
       "      <td>212.563034</td>\n",
       "      <td>198.467034</td>\n",
       "      <td>2.09</td>\n",
       "      <td>0.305055</td>\n",
       "    </tr>\n",
       "    <tr>\n",
       "      <th>2</th>\n",
       "      <td>RCV1.2.4_P1_12h_r.jpg</td>\n",
       "      <td>243.208788</td>\n",
       "      <td>245.875039</td>\n",
       "      <td>244.318168</td>\n",
       "      <td>0.50</td>\n",
       "      <td>0.196010</td>\n",
       "    </tr>\n",
       "    <tr>\n",
       "      <th>3</th>\n",
       "      <td>RCV1.2.4_P1_blank_r.jpg</td>\n",
       "      <td>243.457152</td>\n",
       "      <td>248.335619</td>\n",
       "      <td>246.678716</td>\n",
       "      <td>0.00</td>\n",
       "      <td>0.246547</td>\n",
       "    </tr>\n",
       "    <tr>\n",
       "      <th>4</th>\n",
       "      <td>RCV1.2.4_P1_60h_r.jpg</td>\n",
       "      <td>166.565793</td>\n",
       "      <td>162.700414</td>\n",
       "      <td>138.765517</td>\n",
       "      <td>5.68</td>\n",
       "      <td>2.023025</td>\n",
       "    </tr>\n",
       "    <tr>\n",
       "      <th>5</th>\n",
       "      <td>RCV1.2.4_P1_72h_r.jpg</td>\n",
       "      <td>221.807568</td>\n",
       "      <td>219.919918</td>\n",
       "      <td>206.118803</td>\n",
       "      <td>1.73</td>\n",
       "      <td>0.296092</td>\n",
       "    </tr>\n",
       "    <tr>\n",
       "      <th>6</th>\n",
       "      <td>RCV1.2.4_P1_48h_r.jpg</td>\n",
       "      <td>203.683862</td>\n",
       "      <td>199.410483</td>\n",
       "      <td>179.163310</td>\n",
       "      <td>2.35</td>\n",
       "      <td>0.398461</td>\n",
       "    </tr>\n",
       "    <tr>\n",
       "      <th>7</th>\n",
       "      <td>RCV1.2.4_P1_6h_r.jpg</td>\n",
       "      <td>248.933241</td>\n",
       "      <td>224.825379</td>\n",
       "      <td>168.017655</td>\n",
       "      <td>0.16</td>\n",
       "      <td>-0.688872</td>\n",
       "    </tr>\n",
       "  </tbody>\n",
       "</table>\n",
       "</div>"
      ],
      "text/plain": [
       "                  filename           R           G           B    BC   BC_pred\n",
       "0    RCV1.2.4_P1_36h_r.jpg  227.735743  226.151449  214.286382  1.50  0.271363\n",
       "1    RCV1.2.4_P1_24h_r.jpg  215.259034  212.563034  198.467034  2.09  0.305055\n",
       "2    RCV1.2.4_P1_12h_r.jpg  243.208788  245.875039  244.318168  0.50  0.196010\n",
       "3  RCV1.2.4_P1_blank_r.jpg  243.457152  248.335619  246.678716  0.00  0.246547\n",
       "4    RCV1.2.4_P1_60h_r.jpg  166.565793  162.700414  138.765517  5.68  2.023025\n",
       "5    RCV1.2.4_P1_72h_r.jpg  221.807568  219.919918  206.118803  1.73  0.296092\n",
       "6    RCV1.2.4_P1_48h_r.jpg  203.683862  199.410483  179.163310  2.35  0.398461\n",
       "7     RCV1.2.4_P1_6h_r.jpg  248.933241  224.825379  168.017655  0.16 -0.688872"
      ]
     },
     "execution_count": 35,
     "metadata": {},
     "output_type": "execute_result"
    }
   ],
   "source": [
    "df_test[\"BC_pred\"] = model.predict(df_test[[\"R\", \"G\", \"B\"]])\n",
    "df_test"
   ]
  },
  {
   "cell_type": "code",
   "execution_count": 42,
   "id": "unique-kennedy",
   "metadata": {},
   "outputs": [
    {
     "name": "stdout",
     "output_type": "stream",
     "text": [
      "MAE: 1.4319265556133915\n",
      "MSE: 3.1009272277293816\n",
      "R2: -0.07222057029335405\n"
     ]
    }
   ],
   "source": [
    "y_test, y_pred = df_test['BC'], df_test['BC_pred']\n",
    "mae, mse, r2 = mean_absolute_error(y_test, y_pred), mean_squared_error(y_test, y_pred), r2_score(y_test, y_pred)\n",
    "\n",
    "print(\"MAE: \", mae, \"\\nMSE: \", mse, \"\\nR2: \", r2, sep=\"\")\n",
    "\n"
   ]
  },
  {
   "cell_type": "code",
   "execution_count": null,
   "id": "backed-reaction",
   "metadata": {},
   "outputs": [],
   "source": []
  }
 ],
 "metadata": {
  "kernelspec": {
   "display_name": "Python 3",
   "language": "python",
   "name": "python3"
  },
  "language_info": {
   "codemirror_mode": {
    "name": "ipython",
    "version": 3
   },
   "file_extension": ".py",
   "mimetype": "text/x-python",
   "name": "python",
   "nbconvert_exporter": "python",
   "pygments_lexer": "ipython3",
   "version": "3.8.0"
  }
 },
 "nbformat": 4,
 "nbformat_minor": 5
}
